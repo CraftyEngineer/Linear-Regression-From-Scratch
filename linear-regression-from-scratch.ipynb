{
 "cells": [
  {
   "cell_type": "code",
   "execution_count": 1,
   "id": "e2379ab1",
   "metadata": {
    "_cell_guid": "b1076dfc-b9ad-4769-8c92-a6c4dae69d19",
    "_uuid": "8f2839f25d086af736a60e9eeb907d3b93b6e0e5",
    "execution": {
     "iopub.execute_input": "2025-05-26T13:57:16.055500Z",
     "iopub.status.busy": "2025-05-26T13:57:16.055020Z",
     "iopub.status.idle": "2025-05-26T13:57:18.757832Z",
     "shell.execute_reply": "2025-05-26T13:57:18.756800Z"
    },
    "papermill": {
     "duration": 2.711698,
     "end_time": "2025-05-26T13:57:18.759497",
     "exception": false,
     "start_time": "2025-05-26T13:57:16.047799",
     "status": "completed"
    },
    "tags": []
   },
   "outputs": [
    {
     "name": "stdout",
     "output_type": "stream",
     "text": [
      "Path to dataset files: /kaggle/input/salary-data-dataset-for-linear-regression\n"
     ]
    }
   ],
   "source": [
    "import numpy as np \n",
    "import pandas as pd \n",
    "import matplotlib.pyplot as plt\n",
    "import random\n",
    "import kagglehub\n",
    "path = kagglehub.dataset_download(\"shubham47/salary-data-dataset-for-linear-regression\")\n",
    "\n",
    "print(\"Path to dataset files:\", path)"
   ]
  },
  {
   "cell_type": "code",
   "execution_count": 2,
   "id": "7eddc6fb",
   "metadata": {
    "execution": {
     "iopub.execute_input": "2025-05-26T13:57:18.770861Z",
     "iopub.status.busy": "2025-05-26T13:57:18.770321Z",
     "iopub.status.idle": "2025-05-26T13:57:18.795193Z",
     "shell.execute_reply": "2025-05-26T13:57:18.794376Z"
    },
    "papermill": {
     "duration": 0.03253,
     "end_time": "2025-05-26T13:57:18.797035",
     "exception": false,
     "start_time": "2025-05-26T13:57:18.764505",
     "status": "completed"
    },
    "tags": []
   },
   "outputs": [],
   "source": [
    "ds = pd.read_csv('/kaggle/input/salary-data-dataset-for-linear-regression/Salary_Data.csv')\n",
    "X = ds['YearsExperience'].values\n",
    "Y = ds['Salary'].values"
   ]
  },
  {
   "cell_type": "code",
   "execution_count": 3,
   "id": "8583d4b4",
   "metadata": {
    "execution": {
     "iopub.execute_input": "2025-05-26T13:57:18.808388Z",
     "iopub.status.busy": "2025-05-26T13:57:18.807675Z",
     "iopub.status.idle": "2025-05-26T13:57:18.815253Z",
     "shell.execute_reply": "2025-05-26T13:57:18.814459Z"
    },
    "papermill": {
     "duration": 0.014553,
     "end_time": "2025-05-26T13:57:18.816514",
     "exception": false,
     "start_time": "2025-05-26T13:57:18.801961",
     "status": "completed"
    },
    "tags": []
   },
   "outputs": [
    {
     "data": {
      "text/plain": [
       "(array([ 1.1,  1.3,  1.5,  2. ,  2.2,  2.9,  3. ,  3.2,  3.2,  3.7,  3.9,\n",
       "         4. ,  4. ,  4.1,  4.5,  4.9,  5.1,  5.3,  5.9,  6. ,  6.8,  7.1,\n",
       "         7.9,  8.2,  8.7,  9. ,  9.5,  9.6, 10.3, 10.5]),\n",
       " array([ 39343,  46205,  37731,  43525,  39891,  56642,  60150,  54445,\n",
       "         64445,  57189,  63218,  55794,  56957,  57081,  61111,  67938,\n",
       "         66029,  83088,  81363,  93940,  91738,  98273, 101302, 113812,\n",
       "        109431, 105582, 116969, 112635, 122391, 121872]))"
      ]
     },
     "execution_count": 3,
     "metadata": {},
     "output_type": "execute_result"
    }
   ],
   "source": [
    "(X, Y)"
   ]
  },
  {
   "cell_type": "code",
   "execution_count": 4,
   "id": "e838667d",
   "metadata": {
    "execution": {
     "iopub.execute_input": "2025-05-26T13:57:18.831824Z",
     "iopub.status.busy": "2025-05-26T13:57:18.830867Z",
     "iopub.status.idle": "2025-05-26T13:57:19.123920Z",
     "shell.execute_reply": "2025-05-26T13:57:19.123029Z"
    },
    "papermill": {
     "duration": 0.302643,
     "end_time": "2025-05-26T13:57:19.125664",
     "exception": false,
     "start_time": "2025-05-26T13:57:18.823021",
     "status": "completed"
    },
    "tags": []
   },
   "outputs": [
    {
     "data": {
      "text/plain": [
       "[<matplotlib.lines.Line2D at 0x7e0a00fa3610>]"
      ]
     },
     "execution_count": 4,
     "metadata": {},
     "output_type": "execute_result"
    },
    {
     "data": {
      "image/png": "[encoded data removed]",
      "text/plain": [
       "<Figure size 640x480 with 1 Axes>"
      ]
     },
     "metadata": {},
     "output_type": "display_data"
    }
   ],
   "source": [
    "plt.plot(X,Y)"
   ]
  },
  {
   "cell_type": "code",
   "execution_count": 5,
   "id": "4ec2f96a",
   "metadata": {
    "execution": {
     "iopub.execute_input": "2025-05-26T13:57:19.138057Z",
     "iopub.status.busy": "2025-05-26T13:57:19.137233Z",
     "iopub.status.idle": "2025-05-26T13:57:19.142870Z",
     "shell.execute_reply": "2025-05-26T13:57:19.141700Z"
    },
    "papermill": {
     "duration": 0.01365,
     "end_time": "2025-05-26T13:57:19.144711",
     "exception": false,
     "start_time": "2025-05-26T13:57:19.131061",
     "status": "completed"
    },
    "tags": []
   },
   "outputs": [],
   "source": [
    "X  = np.array(X)\n",
    "Y = np.array(Y)\n"
   ]
  },
  {
   "cell_type": "code",
   "execution_count": 6,
   "id": "f9752035",
   "metadata": {
    "execution": {
     "iopub.execute_input": "2025-05-26T13:57:19.156197Z",
     "iopub.status.busy": "2025-05-26T13:57:19.155467Z",
     "iopub.status.idle": "2025-05-26T13:57:19.161515Z",
     "shell.execute_reply": "2025-05-26T13:57:19.160779Z"
    },
    "papermill": {
     "duration": 0.013077,
     "end_time": "2025-05-26T13:57:19.163032",
     "exception": false,
     "start_time": "2025-05-26T13:57:19.149955",
     "status": "completed"
    },
    "tags": []
   },
   "outputs": [
    {
     "data": {
      "text/plain": [
       "(array([ 1.1,  1.3,  1.5,  2. ,  2.2,  2.9,  3. ,  3.2,  3.2,  3.7,  3.9,\n",
       "         4. ,  4. ,  4.1,  4.5,  4.9,  5.1,  5.3,  5.9,  6. ,  6.8,  7.1,\n",
       "         7.9,  8.2,  8.7,  9. ,  9.5,  9.6, 10.3, 10.5]),\n",
       " array([ 39343,  46205,  37731,  43525,  39891,  56642,  60150,  54445,\n",
       "         64445,  57189,  63218,  55794,  56957,  57081,  61111,  67938,\n",
       "         66029,  83088,  81363,  93940,  91738,  98273, 101302, 113812,\n",
       "        109431, 105582, 116969, 112635, 122391, 121872]))"
      ]
     },
     "execution_count": 6,
     "metadata": {},
     "output_type": "execute_result"
    }
   ],
   "source": [
    "(X,Y)"
   ]
  },
  {
   "cell_type": "code",
   "execution_count": 7,
   "id": "c9666865",
   "metadata": {
    "execution": {
     "iopub.execute_input": "2025-05-26T13:57:19.173736Z",
     "iopub.status.busy": "2025-05-26T13:57:19.173434Z",
     "iopub.status.idle": "2025-05-26T13:57:19.177544Z",
     "shell.execute_reply": "2025-05-26T13:57:19.176833Z"
    },
    "papermill": {
     "duration": 0.011042,
     "end_time": "2025-05-26T13:57:19.178991",
     "exception": false,
     "start_time": "2025-05-26T13:57:19.167949",
     "status": "completed"
    },
    "tags": []
   },
   "outputs": [],
   "source": [
    "def mean(X):\n",
    "    return (np.sum(X)/len(X))"
   ]
  },
  {
   "cell_type": "code",
   "execution_count": 8,
   "id": "ff6e0c26",
   "metadata": {
    "execution": {
     "iopub.execute_input": "2025-05-26T13:57:19.189906Z",
     "iopub.status.busy": "2025-05-26T13:57:19.189584Z",
     "iopub.status.idle": "2025-05-26T13:57:19.193987Z",
     "shell.execute_reply": "2025-05-26T13:57:19.193240Z"
    },
    "papermill": {
     "duration": 0.011271,
     "end_time": "2025-05-26T13:57:19.195253",
     "exception": false,
     "start_time": "2025-05-26T13:57:19.183982",
     "status": "completed"
    },
    "tags": []
   },
   "outputs": [],
   "source": [
    "def variance(X):\n",
    "    mean_value = mean(X)\n",
    "    return (np.sum((X-mean_value)**2)/len(X))"
   ]
  },
  {
   "cell_type": "code",
   "execution_count": 9,
   "id": "12fbeaba",
   "metadata": {
    "execution": {
     "iopub.execute_input": "2025-05-26T13:57:19.206403Z",
     "iopub.status.busy": "2025-05-26T13:57:19.206065Z",
     "iopub.status.idle": "2025-05-26T13:57:19.210419Z",
     "shell.execute_reply": "2025-05-26T13:57:19.209661Z"
    },
    "papermill": {
     "duration": 0.011399,
     "end_time": "2025-05-26T13:57:19.211774",
     "exception": false,
     "start_time": "2025-05-26T13:57:19.200375",
     "status": "completed"
    },
    "tags": []
   },
   "outputs": [],
   "source": [
    "def norm(X):\n",
    "    mean_value = mean(X)\n",
    "    variance_value = variance(X)\n",
    "    return (X - mean_value)/np.sqrt(variance_value)"
   ]
  },
  {
   "cell_type": "code",
   "execution_count": 10,
   "id": "dfddb615",
   "metadata": {
    "execution": {
     "iopub.execute_input": "2025-05-26T13:57:19.223119Z",
     "iopub.status.busy": "2025-05-26T13:57:19.222398Z",
     "iopub.status.idle": "2025-05-26T13:57:19.226683Z",
     "shell.execute_reply": "2025-05-26T13:57:19.225775Z"
    },
    "papermill": {
     "duration": 0.011267,
     "end_time": "2025-05-26T13:57:19.228034",
     "exception": false,
     "start_time": "2025-05-26T13:57:19.216767",
     "status": "completed"
    },
    "tags": []
   },
   "outputs": [],
   "source": [
    "X_norm = norm(X)\n"
   ]
  },
  {
   "cell_type": "code",
   "execution_count": 11,
   "id": "461d21d1",
   "metadata": {
    "execution": {
     "iopub.execute_input": "2025-05-26T13:57:19.239529Z",
     "iopub.status.busy": "2025-05-26T13:57:19.239264Z",
     "iopub.status.idle": "2025-05-26T13:57:19.394810Z",
     "shell.execute_reply": "2025-05-26T13:57:19.393966Z"
    },
    "papermill": {
     "duration": 0.162565,
     "end_time": "2025-05-26T13:57:19.396122",
     "exception": false,
     "start_time": "2025-05-26T13:57:19.233557",
     "status": "completed"
    },
    "tags": []
   },
   "outputs": [
    {
     "data": {
      "text/plain": [
       "[<matplotlib.lines.Line2D at 0x7e0a01007450>]"
      ]
     },
     "execution_count": 11,
     "metadata": {},
     "output_type": "execute_result"
    },
    {
     "data": {
      "image/png": "[encoded data removed]",
      "text/plain": [
       "<Figure size 640x480 with 1 Axes>"
      ]
     },
     "metadata": {},
     "output_type": "display_data"
    }
   ],
   "source": [
    "plt.plot(X_norm, Y)"
   ]
  },
  {
   "cell_type": "code",
   "execution_count": 12,
   "id": "e6990908",
   "metadata": {
    "execution": {
     "iopub.execute_input": "2025-05-26T13:57:19.408338Z",
     "iopub.status.busy": "2025-05-26T13:57:19.408034Z",
     "iopub.status.idle": "2025-05-26T13:57:19.416418Z",
     "shell.execute_reply": "2025-05-26T13:57:19.415683Z"
    },
    "papermill": {
     "duration": 0.016089,
     "end_time": "2025-05-26T13:57:19.417751",
     "exception": false,
     "start_time": "2025-05-26T13:57:19.401662",
     "status": "completed"
    },
    "tags": []
   },
   "outputs": [],
   "source": [
    "class SimpleLinearRegression:\n",
    "    def __init__(self, lr = 0.01, max_iter = 2000, threshold = 1e-8):\n",
    "        self.lr = lr\n",
    "        self.max_iter = max_iter\n",
    "        self.threshold = threshold\n",
    "        self.weight = random.uniform(-1, 1)\n",
    "        self.bias = random.uniform(-1, 1)\n",
    "    def predict(self, X):\n",
    "        return (self.weight*X + self.bias)\n",
    "    def fit(self, X, Y):\n",
    "        n = len(X)\n",
    "        loss_history = []\n",
    "        y_pred = self.predict(X)\n",
    "        errors = Y-y_pred\n",
    "        prev_loss = (1/(2*n))*np.sum(errors**2)\n",
    "        loss_history.append(prev_loss)\n",
    "        for i in range(self.max_iter):\n",
    "            w_grad = (1/n)*np.sum(errors*X)\n",
    "            b_grad = (1/n)*np.sum(errors)\n",
    "            self.weight += self.lr*w_grad\n",
    "            self.bias += self.lr*b_grad\n",
    "            y_pred = self.predict(X)\n",
    "            errors = Y-y_pred\n",
    "            curr_loss = (1/(2*n))*np.sum(errors**2)\n",
    "            \n",
    "            \n",
    "            if np.abs(curr_loss-prev_loss)<self.threshold:\n",
    "                break\n",
    "            prev_loss = curr_loss\n",
    "            loss_history.append(curr_loss)\n",
    "        return loss_history\n",
    "    def plot(self, X, Y):\n",
    "        y_pred = self.predict(X)\n",
    "        plt.plot(X, Y)\n",
    "        plt.plot(X, y_pred)\n",
    "            "
   ]
  },
  {
   "cell_type": "code",
   "execution_count": 13,
   "id": "5c66078c",
   "metadata": {
    "execution": {
     "iopub.execute_input": "2025-05-26T13:57:19.430096Z",
     "iopub.status.busy": "2025-05-26T13:57:19.429791Z",
     "iopub.status.idle": "2025-05-26T13:57:19.433516Z",
     "shell.execute_reply": "2025-05-26T13:57:19.432892Z"
    },
    "papermill": {
     "duration": 0.011495,
     "end_time": "2025-05-26T13:57:19.434910",
     "exception": false,
     "start_time": "2025-05-26T13:57:19.423415",
     "status": "completed"
    },
    "tags": []
   },
   "outputs": [],
   "source": [
    "model = SimpleLinearRegression()"
   ]
  },
  {
   "cell_type": "code",
   "execution_count": 14,
   "id": "55c286b0",
   "metadata": {
    "execution": {
     "iopub.execute_input": "2025-05-26T13:57:19.448178Z",
     "iopub.status.busy": "2025-05-26T13:57:19.447906Z",
     "iopub.status.idle": "2025-05-26T13:57:19.507215Z",
     "shell.execute_reply": "2025-05-26T13:57:19.506316Z"
    },
    "papermill": {
     "duration": 0.068147,
     "end_time": "2025-05-26T13:57:19.508942",
     "exception": false,
     "start_time": "2025-05-26T13:57:19.440795",
     "status": "completed"
    },
    "tags": []
   },
   "outputs": [],
   "source": [
    "loss_history = model.fit(X_norm, Y)\n"
   ]
  },
  {
   "cell_type": "code",
   "execution_count": 15,
   "id": "4265285f",
   "metadata": {
    "execution": {
     "iopub.execute_input": "2025-05-26T13:57:19.520974Z",
     "iopub.status.busy": "2025-05-26T13:57:19.520693Z",
     "iopub.status.idle": "2025-05-26T13:57:19.682056Z",
     "shell.execute_reply": "2025-05-26T13:57:19.681199Z"
    },
    "papermill": {
     "duration": 0.169023,
     "end_time": "2025-05-26T13:57:19.683537",
     "exception": false,
     "start_time": "2025-05-26T13:57:19.514514",
     "status": "completed"
    },
    "tags": []
   },
   "outputs": [
    {
     "data": {
      "text/plain": [
       "[<matplotlib.lines.Line2D at 0x7e0a00e31a10>]"
      ]
     },
     "execution_count": 15,
     "metadata": {},
     "output_type": "execute_result"
    },
    {
     "data": {
      "image/png": "[encoded data removed]",
      "text/plain": [
       "<Figure size 640x480 with 1 Axes>"
      ]
     },
     "metadata": {},
     "output_type": "display_data"
    }
   ],
   "source": [
    "plt.plot(loss_history)"
   ]
  },
  {
   "cell_type": "code",
   "execution_count": 16,
   "id": "10eef36c",
   "metadata": {
    "execution": {
     "iopub.execute_input": "2025-05-26T13:57:19.696149Z",
     "iopub.status.busy": "2025-05-26T13:57:19.695860Z",
     "iopub.status.idle": "2025-05-26T13:57:19.855475Z",
     "shell.execute_reply": "2025-05-26T13:57:19.854669Z"
    },
    "papermill": {
     "duration": 0.167425,
     "end_time": "2025-05-26T13:57:19.856838",
     "exception": false,
     "start_time": "2025-05-26T13:57:19.689413",
     "status": "completed"
    },
    "tags": []
   },
   "outputs": [
    {
     "data": {
      "image/png": "[encoded data removed]",
      "text/plain": [
       "<Figure size 640x480 with 1 Axes>"
      ]
     },
     "metadata": {},
     "output_type": "display_data"
    }
   ],
   "source": [
    "model.plot(X_norm, Y)"
   ]
  },
  {
   "cell_type": "code",
   "execution_count": 17,
   "id": "096b5bfb",
   "metadata": {
    "execution": {
     "iopub.execute_input": "2025-05-26T13:57:19.871374Z",
     "iopub.status.busy": "2025-05-26T13:57:19.870587Z",
     "iopub.status.idle": "2025-05-26T13:57:21.625522Z",
     "shell.execute_reply": "2025-05-26T13:57:21.624628Z"
    },
    "papermill": {
     "duration": 1.763751,
     "end_time": "2025-05-26T13:57:21.627147",
     "exception": false,
     "start_time": "2025-05-26T13:57:19.863396",
     "status": "completed"
    },
    "tags": []
   },
   "outputs": [],
   "source": [
    "from sklearn.linear_model import LinearRegression"
   ]
  },
  {
   "cell_type": "code",
   "execution_count": 18,
   "id": "33a942eb",
   "metadata": {
    "execution": {
     "iopub.execute_input": "2025-05-26T13:57:21.642305Z",
     "iopub.status.busy": "2025-05-26T13:57:21.641877Z",
     "iopub.status.idle": "2025-05-26T13:57:21.646544Z",
     "shell.execute_reply": "2025-05-26T13:57:21.645670Z"
    },
    "papermill": {
     "duration": 0.014128,
     "end_time": "2025-05-26T13:57:21.648041",
     "exception": false,
     "start_time": "2025-05-26T13:57:21.633913",
     "status": "completed"
    },
    "tags": []
   },
   "outputs": [],
   "source": [
    "X_norm = X_norm.reshape(-1, 1)"
   ]
  },
  {
   "cell_type": "code",
   "execution_count": 19,
   "id": "f7915f63",
   "metadata": {
    "execution": {
     "iopub.execute_input": "2025-05-26T13:57:21.662274Z",
     "iopub.status.busy": "2025-05-26T13:57:21.661911Z",
     "iopub.status.idle": "2025-05-26T13:57:21.681598Z",
     "shell.execute_reply": "2025-05-26T13:57:21.680769Z"
    },
    "papermill": {
     "duration": 0.028381,
     "end_time": "2025-05-26T13:57:21.683052",
     "exception": false,
     "start_time": "2025-05-26T13:57:21.654671",
     "status": "completed"
    },
    "tags": []
   },
   "outputs": [],
   "source": [
    "reg = LinearRegression().fit(X_norm, Y)"
   ]
  },
  {
   "cell_type": "code",
   "execution_count": 20,
   "id": "d97c4409",
   "metadata": {
    "execution": {
     "iopub.execute_input": "2025-05-26T13:57:21.698462Z",
     "iopub.status.busy": "2025-05-26T13:57:21.697502Z",
     "iopub.status.idle": "2025-05-26T13:57:21.704351Z",
     "shell.execute_reply": "2025-05-26T13:57:21.703537Z"
    },
    "papermill": {
     "duration": 0.016216,
     "end_time": "2025-05-26T13:57:21.705812",
     "exception": false,
     "start_time": "2025-05-26T13:57:21.689596",
     "status": "completed"
    },
    "tags": []
   },
   "outputs": [
    {
     "data": {
      "text/plain": [
       "0.9569566641435086"
      ]
     },
     "execution_count": 20,
     "metadata": {},
     "output_type": "execute_result"
    }
   ],
   "source": [
    "reg.score(X_norm, Y)"
   ]
  },
  {
   "cell_type": "code",
   "execution_count": 21,
   "id": "41ada2b4",
   "metadata": {
    "execution": {
     "iopub.execute_input": "2025-05-26T13:57:21.720089Z",
     "iopub.status.busy": "2025-05-26T13:57:21.719796Z",
     "iopub.status.idle": "2025-05-26T13:57:21.725179Z",
     "shell.execute_reply": "2025-05-26T13:57:21.724483Z"
    },
    "papermill": {
     "duration": 0.014189,
     "end_time": "2025-05-26T13:57:21.726642",
     "exception": false,
     "start_time": "2025-05-26T13:57:21.712453",
     "status": "completed"
    },
    "tags": []
   },
   "outputs": [
    {
     "data": {
      "text/plain": [
       "array([26367.18244354])"
      ]
     },
     "execution_count": 21,
     "metadata": {},
     "output_type": "execute_result"
    }
   ],
   "source": [
    "reg.coef_ #weight"
   ]
  },
  {
   "cell_type": "code",
   "execution_count": 22,
   "id": "cb4065f4",
   "metadata": {
    "execution": {
     "iopub.execute_input": "2025-05-26T13:57:21.741320Z",
     "iopub.status.busy": "2025-05-26T13:57:21.740981Z",
     "iopub.status.idle": "2025-05-26T13:57:21.746841Z",
     "shell.execute_reply": "2025-05-26T13:57:21.745989Z"
    },
    "papermill": {
     "duration": 0.0147,
     "end_time": "2025-05-26T13:57:21.748223",
     "exception": false,
     "start_time": "2025-05-26T13:57:21.733523",
     "status": "completed"
    },
    "tags": []
   },
   "outputs": [
    {
     "data": {
      "text/plain": [
       "76003.0"
      ]
     },
     "execution_count": 22,
     "metadata": {},
     "output_type": "execute_result"
    }
   ],
   "source": [
    "reg.intercept_ #bias"
   ]
  },
  {
   "cell_type": "code",
   "execution_count": 23,
   "id": "e7cf8b70",
   "metadata": {
    "execution": {
     "iopub.execute_input": "2025-05-26T13:57:21.763688Z",
     "iopub.status.busy": "2025-05-26T13:57:21.763267Z",
     "iopub.status.idle": "2025-05-26T13:57:21.768414Z",
     "shell.execute_reply": "2025-05-26T13:57:21.767544Z"
    },
    "papermill": {
     "duration": 0.015156,
     "end_time": "2025-05-26T13:57:21.770457",
     "exception": false,
     "start_time": "2025-05-26T13:57:21.755301",
     "status": "completed"
    },
    "tags": []
   },
   "outputs": [],
   "source": [
    "Y_pred = reg.predict(X_norm)"
   ]
  },
  {
   "cell_type": "code",
   "execution_count": 24,
   "id": "f59197af",
   "metadata": {
    "execution": {
     "iopub.execute_input": "2025-05-26T13:57:21.786098Z",
     "iopub.status.busy": "2025-05-26T13:57:21.784899Z",
     "iopub.status.idle": "2025-05-26T13:57:21.957040Z",
     "shell.execute_reply": "2025-05-26T13:57:21.956069Z"
    },
    "papermill": {
     "duration": 0.181313,
     "end_time": "2025-05-26T13:57:21.958581",
     "exception": false,
     "start_time": "2025-05-26T13:57:21.777268",
     "status": "completed"
    },
    "tags": []
   },
   "outputs": [
    {
     "data": {
      "text/plain": [
       "[<matplotlib.lines.Line2D at 0x7e09f06b3450>]"
      ]
     },
     "execution_count": 24,
     "metadata": {},
     "output_type": "execute_result"
    },
    {
     "data": {
      "image/png": "[encoded data removed]",
      "text/plain": [
       "<Figure size 640x480 with 1 Axes>"
      ]
     },
     "metadata": {},
     "output_type": "display_data"
    }
   ],
   "source": [
    "plt.plot(X_norm, Y)\n",
    "plt.plot(X_norm, Y_pred)"
   ]
  },
  {
   "cell_type": "code",
   "execution_count": null,
   "id": "65e56987",
   "metadata": {
    "papermill": {
     "duration": 0.006975,
     "end_time": "2025-05-26T13:57:21.973187",
     "exception": false,
     "start_time": "2025-05-26T13:57:21.966212",
     "status": "completed"
    },
    "tags": []
   },
   "outputs": [],
   "source": []
  },
  {
   "cell_type": "markdown",
   "id": "3ea97c13",
   "metadata": {
    "papermill": {
     "duration": 0.007526,
     "end_time": "2025-05-26T13:57:21.987826",
     "exception": false,
     "start_time": "2025-05-26T13:57:21.980300",
     "status": "completed"
    },
    "tags": []
   },
   "source": []
  }
 ],
 "metadata": {
  "kaggle": {
   "accelerator": "none",
   "dataSources": [
    {
     "datasetId": 1171594,
     "sourceId": 1962459,
     "sourceType": "datasetVersion"
    }
   ],
   "dockerImageVersionId": 31040,
   "isGpuEnabled": false,
   "isInternetEnabled": false,
   "language": "python",
   "sourceType": "notebook"
  },
  "kernelspec": {
   "display_name": "Python 3",
   "language": "python",
   "name": "python3"
  },
  "language_info": {
   "codemirror_mode": {
    "name": "ipython",
    "version": 3
   },
   "file_extension": ".py",
   "mimetype": "text/x-python",
   "name": "python",
   "nbconvert_exporter": "python",
   "pygments_lexer": "ipython3",
   "version": "3.11.11"
  },
  "papermill": {
   "default_parameters": {},
   "duration": 11.599998,
   "end_time": "2025-05-26T13:57:22.716254",
   "environment_variables": {},
   "exception": null,
   "input_path": "__notebook__.ipynb",
   "output_path": "__notebook__.ipynb",
   "parameters": {},
   "start_time": "2025-05-26T13:57:11.116256",
   "version": "2.6.0"
  }
 },
 "nbformat": 4,
 "nbformat_minor": 5
}
